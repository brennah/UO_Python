{
 "cells": [
  {
   "cell_type": "markdown",
   "metadata": {},
   "source": [
    "<div style='background-image: url(\"../share/Aerial_view_LLNL.jpg\") ; padding: 0px ; background-size: cover ; border-radius: 15px ; height: 250px; background-position: 0% 80%'>\n",
    "    <div style=\"float: right ; margin: 50px ; padding: 20px ; background: rgba(255 , 255 , 255 , 0.8) ; width: 50% ; height: 150px\">\n",
    "        <div style=\"position: relative ; top: 50% ; transform: translatey(-50%)\">\n",
    "            <div style=\"font-size: xx-large ; font-weight: 900 ; color: rgba(0 , 0 , 0 , 0.9) ; line-height: 100%\">Comparison of SPECFEM Synthetics\n",
    "           </div>\n",
    "            <div style=\"font-size: large ; padding-top: 20px ; color: rgba(0 , 0 , 0 , 0.7)\">Observed vs Synthetic Data</div>\n",
    "        </div>\n",
    "    </div>\n",
    "</div>"
   ]
  },
  {
   "cell_type": "markdown",
   "metadata": {
    "collapsed": true
   },
   "source": [
    "### **2017 CIG-LLNL Computational Seismology Workshop**\n",
    "\n",
    "\n",
    "##### Authors:\n",
    "\n",
    "* Lion Krischer ([@krischer](https://github.com/krischer))\n",
    "\n",
    "---"
   ]
  },
  {
   "cell_type": "code",
   "execution_count": null,
   "metadata": {
    "collapsed": true
   },
   "outputs": [],
   "source": [
    "%matplotlib inline\n",
    "from __future__ import print_function\n",
    "import matplotlib.pyplot as plt\n",
    "\n",
    "import numpy as np\n",
    "import os\n",
    "\n",
    "plt.style.use('ggplot')\n",
    "plt.rcParams['figure.figsize'] = 12, 8"
   ]
  },
  {
   "cell_type": "markdown",
   "metadata": {},
   "source": [
    "### Downloading Observed Data\n",
    "\n",
    "With SPECFEM you likely simulated the 2014 South Napa earthquake in a domain encompassing the USA. If it differed for you will have to adjust this notebook slightly."
   ]
  },
  {
   "cell_type": "markdown",
   "metadata": {},
   "source": [
    "#### Event Data\n",
    "\n",
    "Let's find the event via the USGS web service - not really necessary here but nice for visualization purposes."
   ]
  },
  {
   "cell_type": "code",
   "execution_count": null,
   "metadata": {
    "collapsed": true
   },
   "outputs": [],
   "source": [
    "# Approximate coordinates of Berkeley to be able to find the event.\n",
    "berkley_lon_lat = (-122.272747, 37.8715926)"
   ]
  },
  {
   "cell_type": "code",
   "execution_count": null,
   "metadata": {},
   "outputs": [],
   "source": [
    "import obspy\n",
    "from obspy.clients.fdsn import Client\n",
    "\n",
    "\n",
    "client = Client(\"USGS\")\n",
    "t = obspy.UTCDateTime(\"2014-08-24T10:20:44.0\")  # South Napa earthquake\n",
    "cat = client.get_events(starttime=t - 100, endtime=t + 3600,\n",
    "                        minmagnitude=6)\n",
    "\n",
    "# Print and plot event.\n",
    "print(cat)\n",
    "cat.plot(projection=\"local\", resolution=\"i\");"
   ]
  },
  {
   "cell_type": "markdown",
   "metadata": {},
   "source": [
    "#### Station Data\n",
    "\n",
    "We also need information about the stations."
   ]
  },
  {
   "cell_type": "code",
   "execution_count": null,
   "metadata": {},
   "outputs": [],
   "source": [
    "# To figure out which stations were used we'll just read\n",
    "# all the SPECFEM synthetics and assemble them in a list.\n",
    "st_synthetics = obspy.read(\"SyntheticData/SPECFEM/*.sac\")\n",
    "stations = set((tr.stats.network, tr.stats.station) for tr in st_synthetics)\n",
    "stations"
   ]
  },
  {
   "cell_type": "code",
   "execution_count": null,
   "metadata": {},
   "outputs": [],
   "source": [
    "from obspy.clients.fdsn.header import FDSNException\n",
    "\n",
    "# Get the inventory data for all of the stations.\n",
    "c_iris = Client(\"IRIS\")\n",
    "inv = obspy.Inventory(networks=[], source=\"\")\n",
    "for net, sta in stations:\n",
    "    # In these cases it is always useful to wrap\n",
    "    # things in a try/except statement.\n",
    "    try:\n",
    "        inv += c_iris.get_stations(\n",
    "            network=net,\n",
    "            station=sta,\n",
    "            location=\"00\",\n",
    "            channel=\"BH?\",\n",
    "            # Also request the response as we'll later use it\n",
    "            # to remove the instrument response from the observed\n",
    "            # data.\n",
    "            level=\"response\")\n",
    "    except FDSNException:\n",
    "        print(\"Failed to download inventory information for %s.%s\" % (net, sta))\n",
    "# Plot stations and event in a single plot.\n",
    "fig = inv.plot(projection=\"local\", show=False);\n",
    "cat.plot(fig=fig);"
   ]
  },
  {
   "cell_type": "markdown",
   "metadata": {},
   "source": [
    "#### Waveform Data\n",
    "\n",
    "Now download the actual observed data."
   ]
  },
  {
   "cell_type": "code",
   "execution_count": null,
   "metadata": {},
   "outputs": [],
   "source": [
    "from obspy.clients.fdsn.header import FDSNException\n",
    "\n",
    "event_time = cat[0].origins[0].time\n",
    "\n",
    "st = obspy.Stream()\n",
    "    \n",
    "# Also download waveform data.\n",
    "for net, sta in stations:\n",
    "    try:\n",
    "        st += c_iris.get_waveforms(\n",
    "            network=net,\n",
    "            station=sta,\n",
    "            location=\"00\",\n",
    "            channel=\"BH?\",\n",
    "            # 5 minutes before to 30 minutes after event.\n",
    "            starttime=event_time - 5 * 60,\n",
    "            endtime=event_time + 30 * 60)\n",
    "        print(\"Downloaded waveform data for %s.%s.\" % (net, sta))\n",
    "    except FDSNException:\n",
    "        print(\"Failed to download waveform data for %s.%s.\" % (net, sta))"
   ]
  },
  {
   "cell_type": "markdown",
   "metadata": {},
   "source": [
    "### Interlude: STF and Rotation Helper Function\n",
    "\n",
    "\n"
   ]
  },
  {
   "cell_type": "markdown",
   "metadata": {},
   "source": [
    "To be able to compare synthetic and observed data, they have to be as similar as possible. Observed data has been generated by some kind of source mechanism which in the far-field and for small enough earthquakes can be described by a source time function. This has to be replicated for the synthetic data. This displacement source used for the simulations is plotted here:"
   ]
  },
  {
   "cell_type": "code",
   "execution_count": null,
   "metadata": {},
   "outputs": [],
   "source": [
    "time, stf = np.loadtxt(\"SyntheticData/SPECFEM/plot_source_time_function.txt\").T\n",
    "plt.plot(time[0:100], stf[0:100])\n",
    "plt.xlabel(\"Time in seconds\")\n",
    "plt.ylabel(\"Displacement\")\n",
    "plt.show()"
   ]
  },
  {
   "cell_type": "markdown",
   "metadata": {},
   "source": [
    "This is an approximate Heaviside function and very high-frequent. So we you just filter low enough we don't really have to worry about it too much. We just have to filter low enought so that the actual STF of the observed data also only has a limited influence. This varies depending on the size of the earthquake."
   ]
  },
  {
   "cell_type": "markdown",
   "metadata": {},
   "source": [
    "The horizontal components of GSN stations are often not named `E` and `N` but `1` and `2`. This might mean that they have a different orientation and have to be rotate to `E` and `N` to be able to compare them to synthetic data. This helper fucntion here does that."
   ]
  },
  {
   "cell_type": "code",
   "execution_count": null,
   "metadata": {
    "collapsed": true
   },
   "outputs": [],
   "source": [
    "from obspy.signal.rotate import rotate2zne\n",
    "\n",
    "\n",
    "def rotate_to_zne(st, inv):\n",
    "    \"\"\"\n",
    "    Helper function to rotate any 3 components to ZNE -\n",
    "    this will no longer be needed with the next ObsPy\n",
    "    version.\n",
    "    \"\"\"\n",
    "    # Only rotate those where its necessary.\n",
    "    if set(tr.stats.channel for tr in st) != {\"BH1\", \"BH2\", \"BHZ\"} or len(st) != 3:\n",
    "        raise Exception(\"Could not rotate\")\n",
    "        \n",
    "    args = []\n",
    "    for tr in st:\n",
    "        args.append(tr.data)\n",
    "        c = inv.select(*tr.id.split(\".\"))[0][0][0]\n",
    "        args.extend([c.azimuth, c.dip])\n",
    "    # This function rotates any 3-component recording to ZNE.\n",
    "    z, n, e = rotate2zne(*args)\n",
    "    \n",
    "    new_st = obspy.Stream()\n",
    "    h = st[0].stats.copy()\n",
    "    h.channel = \"BHZ\"\n",
    "    new_st.append(obspy.Trace(z, h))\n",
    "    h = st[0].stats.copy()\n",
    "    h.channel = \"BHN\"\n",
    "    new_st.append(obspy.Trace(n, h))\n",
    "    h = st[0].stats.copy()\n",
    "    h.channel = \"BHE\"\n",
    "    new_st.append(obspy.Trace(e, h))\n",
    "    \n",
    "    return new_st"
   ]
  },
  {
   "cell_type": "markdown",
   "metadata": {},
   "source": [
    "### Comparing SPECFEM Synthetics with Observed Data"
   ]
  },
  {
   "cell_type": "code",
   "execution_count": null,
   "metadata": {
    "scrolled": false
   },
   "outputs": [],
   "source": [
    "import os\n",
    "\n",
    "# We'll encapsulate this in a small function to make it easier\n",
    "# to try out for different stations.\n",
    "def compare_data_and_synthetics(station):\n",
    "    net, sta = station.split(\".\")\n",
    "    \n",
    "    st_syn = st_synthetics.select(network=net, station=sta).copy()\n",
    "    st_obs = st.select(network=net, station=sta).copy()\n",
    "    \n",
    "    if not(st_syn):\n",
    "        print(\"Could not find synthetics for station %s.%s.\" % (net, sta))\n",
    "        return\n",
    "    if not(st_obs):\n",
    "        print(\"Could not find observed data for station %s.%s.\" % (net, sta))\n",
    "        return\n",
    "\n",
    "    st_obs.detrend(\"linear\")\n",
    "    st_obs.taper(max_percentage=0.05)\n",
    "\n",
    "    st_obs.remove_response(\n",
    "        inventory=inv, output=\"DISP\",\n",
    "        # Make sure to not touch the frequency band of interest so\n",
    "        # that we don't have to apply the same spectral filter to the \n",
    "        # synthetic data.\n",
    "        pre_filt=(1.0 / 400.0, 1.0 / 200.0, 2.0, 4.0))\n",
    "    try:\n",
    "        st_obs = rotate_to_zne(st_obs, inv)\n",
    "    except:\n",
    "        print(\"Failed to rotate %s.%s.\" % (net, sta))\n",
    "        return\n",
    "\n",
    "    # Also filter synthetics a bit.\n",
    "    st_syn.detrend(\"linear\")\n",
    "    st_syn.taper(max_percentage=0.05)\n",
    "    \n",
    "    # At this point both should really be very similar.\n",
    "    # Apply the same filter to both.\n",
    "    (st_obs + st_syn).filter(\"bandpass\", freqmin=1.0 / 100,\n",
    "                             freqmax=1.0 / 15.0, corners=6, zerophase=True)\n",
    "    \n",
    "    # Force continuity - fixed in latest ObsPy master.\n",
    "    for tr in st_obs:\n",
    "        tr.data = np.require(tr.data, requirements=[\"C_CONTIGUOUS\"])\n",
    "    # Now be lazy and resmample to the sample points of the synthetics.\n",
    "    # This should have little aliasing due to the strong filter applied before.\n",
    "    st_obs.interpolate(\n",
    "        sampling_rate=st_syn[0].stats.sampling_rate,\n",
    "        # sinc based reconstruction filter.\n",
    "        method=\"lanczos\", a=12,\n",
    "        starttime=st_syn[0].stats.starttime,\n",
    "        npts=st_syn[0].stats.npts)\n",
    "    \n",
    "    # Get bounds for plot.\n",
    "    vmax = max([np.abs(tr.data).max()\n",
    "                for tr in st_obs + st_syn]) * 1.1\n",
    "    \n",
    "    # Plot every channel.\n",
    "    for _i, c in enumerate([\"Z\", \"N\", \"E\"]):\n",
    "        plt.subplot(3, 1, _i + 1)\n",
    "        plt.title(\"Station %s, component %s\" % (station, c))\n",
    "        tr_obs = st_obs.select(component=c)[0]\n",
    "        tr_syn = st_syn.select(component=c)[0]\n",
    "        plt.plot(tr_obs.times(), tr_obs.data, color=\"black\",\n",
    "                 label=\"observed\")\n",
    "        plt.plot(tr_syn.times(), tr_syn.data, color=\"red\",\n",
    "                 label=\"synthetic\")\n",
    "        plt.ylim(-vmax, vmax)\n",
    "        plt.ylabel(\"Displacement in m\")\n",
    "    plt.xlabel(\"Time since event in s\")\n",
    "    plt.legend()\n",
    "    plt.tight_layout()\n",
    "    plt.show()\n",
    "\n",
    "for n, s in stations:\n",
    "    compare_data_and_synthetics(\"%s.%s\" % (n, s))"
   ]
  },
  {
   "cell_type": "code",
   "execution_count": null,
   "metadata": {
    "collapsed": true
   },
   "outputs": [],
   "source": []
  }
 ],
 "metadata": {
  "kernelspec": {
   "display_name": "Python 3",
   "language": "python",
   "name": "python3"
  },
  "language_info": {
   "codemirror_mode": {
    "name": "ipython",
    "version": 3
   },
   "file_extension": ".py",
   "mimetype": "text/x-python",
   "name": "python",
   "nbconvert_exporter": "python",
   "pygments_lexer": "ipython3",
   "version": "3.6.2"
  }
 },
 "nbformat": 4,
 "nbformat_minor": 2
}
