{
 "cells": [
  {
   "cell_type": "markdown",
   "metadata": {},
   "source": [
    "<div style='background-image: url(\"../share/Aerial_view_LLNL.jpg\") ; padding: 0px ; background-size: cover ; border-radius: 15px ; height: 250px; background-position: 0% 80%'>\n",
    "    <div style=\"float: right ; margin: 50px ; padding: 20px ; background: rgba(255 , 255 , 255 , 0.8) ; width: 50% ; height: 150px\">\n",
    "        <div style=\"position: relative ; top: 50% ; transform: translatey(-50%)\">\n",
    "            <div style=\"font-size: xx-large ; font-weight: 900 ; color: rgba(0 , 0 , 0 , 0.9) ; line-height: 100%\">Comparison of SW4 Synthetics\n",
    "           </div>\n",
    "            <div style=\"font-size: large ; padding-top: 20px ; color: rgba(0 , 0 , 0 , 0.7)\">Observed vs Synthetic Data</div>\n",
    "        </div>\n",
    "    </div>\n",
    "</div>"
   ]
  },
  {
   "cell_type": "markdown",
   "metadata": {
    "collapsed": true
   },
   "source": [
    "### **2017 CIG-LLNL Computational Seismology Workshop**\n",
    "\n",
    "\n",
    "##### Authors:\n",
    "\n",
    "* Lion Krischer ([@krischer](https://github.com/krischer))\n",
    "\n",
    "---"
   ]
  },
  {
   "cell_type": "code",
   "execution_count": null,
   "metadata": {
    "collapsed": true
   },
   "outputs": [],
   "source": [
    "%matplotlib inline\n",
    "from __future__ import print_function\n",
    "import matplotlib.pyplot as plt\n",
    "\n",
    "import numpy as np\n",
    "import os\n",
    "\n",
    "plt.style.use('ggplot')\n",
    "plt.rcParams['figure.figsize'] = 12, 8"
   ]
  },
  {
   "cell_type": "markdown",
   "metadata": {},
   "source": [
    "### Observed Data\n",
    "\n",
    "For SW4 we'll work with the Piedmont (near Oakland and Berkeley) Mw 4.2 event from 2007/07/20. So the first step is to find information about the event as well as stations and waveforms.\n",
    "\n",
    "Depending on which earthquakes you simulated in the previous days you might have to adjust this slightly."
   ]
  },
  {
   "cell_type": "code",
   "execution_count": null,
   "metadata": {
    "collapsed": true
   },
   "outputs": [],
   "source": [
    "# Approximate coordinates of Berkeley to be able to find the event.\n",
    "berkley_lon_lat = (-122.272747, 37.8715926)"
   ]
  },
  {
   "cell_type": "markdown",
   "metadata": {},
   "source": [
    "#### Event Data\n",
    "\n",
    "Let's find the event via the USGS web service."
   ]
  },
  {
   "cell_type": "code",
   "execution_count": null,
   "metadata": {},
   "outputs": [],
   "source": [
    "import obspy\n",
    "from obspy.clients.fdsn import Client\n",
    "\n",
    "\n",
    "c_usgs = Client(\"USGS\")\n",
    "cat = c_usgs.get_events(\n",
    "    # Earthquake happened on the July 20th, 2007\n",
    "    starttime=obspy.UTCDateTime(2007, 7, 20),\n",
    "    endtime=obspy.UTCDateTime(2007, 7, 21),\n",
    "    # Close to Berkeley\n",
    "    longitude=berkley_lon_lat[0],\n",
    "    latitude=berkley_lon_lat[1],\n",
    "    maxradius=1,\n",
    "    # magnitude of 4.2\n",
    "    minmagnitude=4)\n",
    "\n",
    "# Print and plot event.\n",
    "print(cat)\n",
    "cat.plot(projection=\"local\", resolution=\"i\");"
   ]
  },
  {
   "cell_type": "markdown",
   "metadata": {},
   "source": [
    "#### Station Data\n",
    "\n",
    "We also need information about the stations."
   ]
  },
  {
   "cell_type": "code",
   "execution_count": null,
   "metadata": {
    "collapsed": true
   },
   "outputs": [],
   "source": [
    "# The folder with the backup synthetic data has SW4\n",
    "# synthetics for three scenarios. Each has slightly\n",
    "# different stations, the following ten stations\n",
    "# are available for each scenario.\n",
    "# All in the BK network.\n",
    "stations = [\"BDM\", \"BKS\", \"BRIB\", \"BRK\", \"CVS\",\n",
    "            \"MHC\", \"MNRC\", \"PACP\", \"SAO\", \"WENL\"]"
   ]
  },
  {
   "cell_type": "code",
   "execution_count": null,
   "metadata": {},
   "outputs": [],
   "source": [
    "# Get the inventory data for \n",
    "c_ncedc = Client(\"NCEDC\")\n",
    "inv = c_ncedc.get_stations(\n",
    "    network=\"BK\",\n",
    "    station=\",\".join(stations),\n",
    "    # Make sure stations are active at the time of the recording.\n",
    "    starttime=obspy.UTCDateTime(2007, 7, 20),\n",
    "    endtime=obspy.UTCDateTime(2007, 7, 21),\n",
    "    # Also request the response as we'll later use it\n",
    "    # to remove the instrument response from the observed\n",
    "    # data.\n",
    "    level=\"response\")\n",
    "inv.plot(projection=\"local\", resolution=\"i\");"
   ]
  },
  {
   "cell_type": "markdown",
   "metadata": {},
   "source": [
    "#### Waveform Data\n",
    "\n",
    "Last but not least we also the actual observed waveforms to be able to make the comparision."
   ]
  },
  {
   "cell_type": "code",
   "execution_count": null,
   "metadata": {
    "collapsed": true
   },
   "outputs": [],
   "source": [
    "event_time = cat[0].origins[0].time\n",
    "\n",
    "# Also download waveform data.\n",
    "st = c_ncedc.get_waveforms(\n",
    "    network=\"BK\",\n",
    "    station=\",\".join(stations),\n",
    "    location=\"*\",\n",
    "    channel=\"BH?\",\n",
    "    # 5 minutes before to 15 minutes after event.\n",
    "    starttime=event_time - 5 * 60,\n",
    "    endtime=event_time + 15 * 60)"
   ]
  },
  {
   "cell_type": "markdown",
   "metadata": {},
   "source": [
    "### Comparing SW4 Synthetics with Observed Data"
   ]
  },
  {
   "cell_type": "code",
   "execution_count": null,
   "metadata": {
    "scrolled": false
   },
   "outputs": [],
   "source": [
    "import os\n",
    "\n",
    "# We'll encapsulate this in a small function to make it easier\n",
    "# to try out for different stations.\n",
    "def compare_data_and_synthetics(station, simulation_scenario):\n",
    "    \n",
    "    # Sanity check.\n",
    "    simulation_scenario = simulation_scenario.lower()\n",
    "    if simulation_scenario not in (\"1d\", \"3d\", \"3dtopo\"):\n",
    "        raise ValueError(\"Invalid Scenario.\")\n",
    "        \n",
    "    # Find the synthetics.\n",
    "    folder_map = {\n",
    "        \"1d\": \"SyntheticData/SW4/PIEDMONT_1D/\",\n",
    "        \"3d\": \"SyntheticData/SW4/PIEDMONT_3D/\",\n",
    "        \"3dtopo\": \"SyntheticData/SW4/PIEDMONT_3D_TOPO/\",\n",
    "    }\n",
    "    files = os.path.join(folder_map[simulation_scenario],\n",
    "                         \"BK.%s.[enu]\" % station)\n",
    "    \n",
    "    # Read them.\n",
    "    st_syn = obspy.read(files)\n",
    "    assert st_syn\n",
    "    \n",
    "    # Fix them a bit - network code should not be in the station\n",
    "    # field, and channel codes should correspond to the\n",
    "    # FDSN schema.\n",
    "    for tr in st_syn:\n",
    "        tr.stats.network = \"BK\"\n",
    "        tr.stats.station = tr.stats.station.split(\".\")[-1]\n",
    "        tr.stats.channel = {\"UP\": \"XHZ\",\n",
    "                            \"NS\": \"XHN\",\n",
    "                            \"EW\": \"XHE\"}[tr.stats.channel]\n",
    "        \n",
    "        # Also assume the event time is time zero.\n",
    "        tr.stats.starttime = event_time - tr.stats.sac.o\n",
    " \n",
    "    # Now we'll get to the interesting part.\n",
    "    st_obs = st.select(station=station).copy()\n",
    "    if not st_obs:\n",
    "        print(\"Could not find observed data for station %s.\" % station)\n",
    "        return\n",
    "    \n",
    "    st_obs.detrend(\"linear\")\n",
    "    st_obs.taper(max_percentage=0.05)\n",
    "    st_obs.remove_response(\n",
    "        inventory=inv, output=\"DISP\",\n",
    "        # Make sure to not touch the frequency band of interest.\n",
    "        pre_filt=(1.0 / 100.0, 1.0 / 50.0, 2.0, 4.0))\n",
    "    # Same filter as SW4 applies to the source time function.\n",
    "    st_obs.filter(\"lowpass\",\n",
    "                  freq=0.3125,\n",
    "                  corners=2, zerophase=True)\n",
    "    # Force continuity - fixed in latest ObsPy master.\n",
    "    for tr in st_obs:\n",
    "        tr.data = np.require(tr.data, requirements=[\"C_CONTIGUOUS\"])\n",
    "    # Now be lazy and upsample to the sample points of the synthetics.\n",
    "    # This has also no aliasing problems!\n",
    "    st_obs.interpolate(\n",
    "        sampling_rate=st_syn[0].stats.sampling_rate,\n",
    "        # sinc based reconstruction filter.\n",
    "        method=\"lanczos\", a=12,\n",
    "        starttime=st_syn[0].stats.starttime,\n",
    "        npts=st_syn[0].stats.npts)\n",
    "    \n",
    "    # Get bounds for plot.\n",
    "    vmax = max([np.abs(tr.data).max()\n",
    "                for tr in st_obs + st_syn]) * 1.1\n",
    "    \n",
    "    # Plot every channel.\n",
    "    for _i, c in enumerate([\"Z\", \"N\", \"E\"]):\n",
    "        plt.subplot(3, 1, _i + 1)\n",
    "        plt.title(\"Station %s, component %s\" % (station, c))\n",
    "        tr_obs = st_obs.select(component=c)[0]\n",
    "        tr_syn = st_syn.select(component=c)[0]\n",
    "        plt.plot(tr_obs.times(), tr_obs.data, color=\"black\",\n",
    "                 label=\"observed\")\n",
    "        plt.plot(tr_syn.times(), tr_syn.data, color=\"red\",\n",
    "                 label=\"synthetic\")\n",
    "        plt.ylim(-vmax, vmax)\n",
    "        plt.ylabel(\"Displacement in m\")\n",
    "    plt.xlabel(\"Time since event in s\")\n",
    "    plt.legend()\n",
    "    plt.tight_layout()\n",
    "    plt.show()\n",
    "    \n",
    "for s in stations:\n",
    "    compare_data_and_synthetics(station=s,\n",
    "                                simulation_scenario=\"3dtopo\")"
   ]
  },
  {
   "cell_type": "code",
   "execution_count": null,
   "metadata": {
    "collapsed": true
   },
   "outputs": [],
   "source": []
  }
 ],
 "metadata": {
  "kernelspec": {
   "display_name": "Python 3",
   "language": "python",
   "name": "python3"
  },
  "language_info": {
   "codemirror_mode": {
    "name": "ipython",
    "version": 3
   },
   "file_extension": ".py",
   "mimetype": "text/x-python",
   "name": "python",
   "nbconvert_exporter": "python",
   "pygments_lexer": "ipython3",
   "version": "3.6.2"
  }
 },
 "nbformat": 4,
 "nbformat_minor": 2
}
