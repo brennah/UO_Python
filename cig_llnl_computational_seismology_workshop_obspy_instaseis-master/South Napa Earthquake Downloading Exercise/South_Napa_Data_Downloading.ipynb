{
 "cells": [
  {
   "cell_type": "markdown",
   "metadata": {},
   "source": [
    "<div style='background-image: url(\"../share/Aerial_view_LLNL.jpg\") ; padding: 0px ; background-size: cover ; border-radius: 15px ; height: 250px; background-position: 0% 80%'>\n",
    "    <div style=\"float: right ; margin: 50px ; padding: 20px ; background: rgba(255 , 255 , 255 , 0.8) ; width: 50% ; height: 150px\">\n",
    "        <div style=\"position: relative ; top: 50% ; transform: translatey(-50%)\">\n",
    "            <div style=\"font-size: xx-large ; font-weight: 900 ; color: rgba(0 , 0 , 0 , 0.9) ; line-height: 100%\">2014 South Napa Earthquake</div>\n",
    "            <div style=\"font-size: large ; padding-top: 20px ; color: rgba(0 , 0 , 0 , 0.7)\">Large Scale Downloading Exercise</div>\n",
    "        </div>\n",
    "    </div>\n",
    "</div>"
   ]
  },
  {
   "cell_type": "markdown",
   "metadata": {},
   "source": [
    "### **2017 CIG-LLNL Computational Seismology Workshop**\n",
    "\n",
    "\n",
    "##### Authors:\n",
    "* Artie Rogers\n",
    "* Lion Krischer ([@krischer](https://github.com/krischer))\n",
    "---\n",
    "\n",
    "This notebooks aims to teach you how to use ObsPy to download a larger data-set that you can then use for example for seismic inversions, sources studies, or whatever else suits your fancy. In this example we will download waveform and station data in certain geographical region for the South Napa earthquake."
   ]
  },
  {
   "cell_type": "code",
   "execution_count": null,
   "metadata": {
    "collapsed": true
   },
   "outputs": [],
   "source": [
    "%matplotlib inline\n",
    "from __future__ import print_function\n",
    "import matplotlib.pyplot as plt\n",
    "plt.style.use('ggplot')\n",
    "plt.rcParams['figure.figsize'] = 12, 8"
   ]
  },
  {
   "cell_type": "markdown",
   "metadata": {},
   "source": [
    "### Event Data\n",
    "\n",
    "The first step again is do find the event."
   ]
  },
  {
   "cell_type": "code",
   "execution_count": null,
   "metadata": {},
   "outputs": [],
   "source": [
    "# You shopuld be able to do this by yourself by now. Best use the \n",
    "# USGS FDSN web service but others might work as well.\n",
    "\n",
    "..."
   ]
  },
  {
   "cell_type": "markdown",
   "metadata": {},
   "source": [
    "### Waveform and Station Data\n",
    "\n",
    "You could once again write loops and manually download waveforms and corresponding station files like seen in the previous exercises. This quickly gets tedious and error prone, especially if one wants to incorporate data from multiple data centers.\n",
    "\n",
    "To this end IRIS developed the so-called [Federator](https://ds.iris.edu/ds/newsletter/vol17/no2/444/introducing-the-iris-federator-time-series-data-search-across-global-data-centers/) which enables you to figure out which data centers hosts what data. The counter-part for the European ORFEUS consortium is the [EIDAWS Routing service](http://www.orfeus-eu.org/data/eida/webservices/routing/). Unfortunately we did not manage to get support for these into ObsPy in time for this workshop. But it will happen very soon.\n",
    "\n",
    "Chad will talk more about the federator in the afternoon.\n",
    "\n",
    "\n",
    "#### Mass Downloader\n",
    "\n",
    "ObsPy has a submodule to help with this, the mass downloader. It attempts to offer an API for how seismologists would like to download data. It works in three steps:\n",
    "\n",
    "1. Define Geographical Domain\n",
    "2. Define Other Restrictions\n",
    "3. Launch Download\n",
    "\n",
    "After this it fully automatically downloads across all data centers it knows of. Many seismologist want to solve a problem on Earth an don’t care that much where the data actually comes from. Additionally it has a couple of other nice features:\n",
    "\n",
    "* Automatic Quality Control\n",
    "* Define Other Restrictions\n",
    "* Relaunch Downloads\n",
    "* One always need waveform data and station meta information\n",
    "* Acquire a “nice and complete” dataset\n",
    "* Usable as a library\n",
    "\n",
    "\n",
    "#### Exercise\n",
    "\n",
    "\n",
    "##### Part A\n",
    "\n",
    "Use the mass downloader to download data for a small (there are a lot of stations in this region) geographical region (a circular region with a radius of 1 degree is an example), including the station information, with the mass downloader. Download from 2 minutes before the event to 10 minutes after it and download only `LHZ` channels.\n",
    "\n",
    "**The documentation is your friend. So is just searching the internet.**"
   ]
  },
  {
   "cell_type": "code",
   "execution_count": null,
   "metadata": {},
   "outputs": [],
   "source": [
    "import obspy\n",
    "from obspy.clients.fdsn.mass_downloader import CircularDomain, \\\n",
    "    Restrictions, MassDownloader\n",
    "\n",
    "\n",
    "# First, define a domain.\n",
    "domain = CircularDomain(...)\n",
    "\n",
    "# Second, define some additional restrictions.\n",
    "restrictions = Restrictions(...)\n",
    "\n",
    "# If you leave the providers empty it will loop through\n",
    "# all data centers it knows.\n",
    "# It will prefer data from the first providers.\n",
    "mdl = MassDownloader(providers=[\"SCEDC\", \"NCEDC\", \"IRIS\"])\n",
    "\n",
    "# Finally launch it.\n",
    "mdl.download(domain, restrictions,\n",
    "             # The files will be stored in these two folders.\n",
    "             mseed_storage=\"waveforms\",\n",
    "             stationxml_storage=\"stations\")"
   ]
  },
  {
   "cell_type": "code",
   "execution_count": null,
   "metadata": {},
   "outputs": [],
   "source": [
    "!ls -l waveforms\n",
    "!ls -l stations"
   ]
  },
  {
   "cell_type": "markdown",
   "metadata": {},
   "source": [
    "##### Bonus Exercise\n",
    "\n",
    "Plot the stations and the event in a single map. Note that `obspy.read_inventory(\"*.xml\")` does not work in ObsPy 1.0.3 (it does work in the master though...). Use the `glob` module of Python's stdlib."
   ]
  },
  {
   "cell_type": "code",
   "execution_count": null,
   "metadata": {},
   "outputs": [],
   "source": [
    "..."
   ]
  },
  {
   "cell_type": "markdown",
   "metadata": {},
   "source": [
    "##### Part B\n",
    "\n",
    "Process the data in the following way and store each trace in a new folder as a SAC file:\n",
    "\n",
    "1. Instrument correction to displacement\n",
    "2. Detrend and taper\n",
    "3. Apply a bandpass filter from 100 to 20 seconds.\n",
    "4. Sample all at exactly the same points in time at a sampling rate of 0.5 Hz.\n",
    "\n",
    "There is a bug in ObsPy 1.0.3 with new numpy versions\n",
    "(fixed in the master once again...) that will cause\n",
    "an exception when running the Lanczos interpolation\n",
    "after any filter. To fix it just do the following right\n",
    "before the Lanczos interpolation:\n",
    "\n",
    "```python\n",
    "import numpy as np\n",
    "for tr in st:\n",
    "    tr.data = np.require(tr.data,\n",
    "                         requirements=[\"C_CONTIGUOUS\"])\n",
    "```"
   ]
  },
  {
   "cell_type": "code",
   "execution_count": null,
   "metadata": {
    "scrolled": false
   },
   "outputs": [],
   "source": [
    "..."
   ]
  },
  {
   "cell_type": "code",
   "execution_count": null,
   "metadata": {},
   "outputs": [],
   "source": [
    "!ls SAC_files/"
   ]
  }
 ],
 "metadata": {
  "kernelspec": {
   "display_name": "Python 3",
   "language": "python",
   "name": "python3"
  },
  "language_info": {
   "codemirror_mode": {
    "name": "ipython",
    "version": 3
   },
   "file_extension": ".py",
   "mimetype": "text/x-python",
   "name": "python",
   "nbconvert_exporter": "python",
   "pygments_lexer": "ipython3",
   "version": "3.6.2"
  }
 },
 "nbformat": 4,
 "nbformat_minor": 2
}
